{
 "cells": [
  {
   "cell_type": "code",
   "execution_count": 11,
   "id": "3ead1a41",
   "metadata": {},
   "outputs": [],
   "source": [
    "import random, string\n",
    "from tkinter import *\n",
    "import pyperclip\n",
    "\n",
    "\n",
    "#Initialize Window\n",
    "\n",
    "root =Tk()\n",
    "root.geometry(\"400x400\") \n",
    "\n",
    "root.title(\"Random Password Generator\")\n",
    "\n",
    "\n",
    "output_pass = StringVar()\n",
    "\n",
    "all_combi = [string.punctuation, string.ascii_uppercase, string.digits, string.ascii_lowercase]  #list of all possible characters\n",
    "\n",
    "def randPassGen():\n",
    "    password = \"\" \n",
    "    for y in range(pass_len.get()):\n",
    "        char_type = random.choice(all_combi) \n",
    "        password = password + random.choice(char_type)\n",
    "    \n",
    "    output_pass.set(password)\n",
    "\n",
    "\n",
    "\n",
    "def copyPass():\n",
    "    pyperclip.copy(output_pass.get())\n",
    "\n",
    "pass_head = Label(root, text = 'Password Length', font = 'arial 12 bold').pack(pady=10)\n",
    "\n",
    "pass_len = IntVar() \n",
    "length = Spinbox(root, from_ = 4, to_ = 32 , textvariable = pass_len , width = 24, font='arial 16').pack()\n",
    "\n",
    "#Generate password button\n",
    "\n",
    "Button(root, command = randPassGen, text = \"Generate Password\", font=\"Arial 10\", bg='lightblue', fg='black', activebackground=\"teal\", padx=5, pady=5 ).pack(pady= 20)\n",
    "\n",
    "pass_label = Label(root, text = 'Random Generated Password', font = 'arial 12 bold').pack(pady=\"30 10\")\n",
    "Entry(root , textvariable = output_pass, width = 24, font='arial 16').pack()\n",
    "\n",
    "#Copy to clipboard button\n",
    "\n",
    "Button(root, text = 'Copy to Clipboard', command = copyPass, font=\"Arial 10\", bg='lightblue', fg='black', activebackground=\"teal\", padx=5, pady=5 ).pack(pady= 20)\n",
    "\n",
    "root.mainloop() "
   ]
  },
  {
   "cell_type": "code",
   "execution_count": null,
   "id": "ec23a243",
   "metadata": {},
   "outputs": [],
   "source": []
  }
 ],
 "metadata": {
  "kernelspec": {
   "display_name": "Python 3 (ipykernel)",
   "language": "python",
   "name": "python3"
  },
  "language_info": {
   "codemirror_mode": {
    "name": "ipython",
    "version": 3
   },
   "file_extension": ".py",
   "mimetype": "text/x-python",
   "name": "python",
   "nbconvert_exporter": "python",
   "pygments_lexer": "ipython3",
   "version": "3.9.13"
  }
 },
 "nbformat": 4,
 "nbformat_minor": 5
}
